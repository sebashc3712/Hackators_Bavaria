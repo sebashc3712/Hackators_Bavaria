{
 "cells": [
  {
   "cell_type": "code",
   "execution_count": 1,
   "metadata": {},
   "outputs": [],
   "source": [
    "# Libraries\n",
    "\n",
    "import pandas as pd\n",
    "import numpy as np\n",
    "import matplotlib.pyplot as plt"
   ]
  },
  {
   "cell_type": "markdown",
   "metadata": {},
   "source": [
    "# 1) Importing Data"
   ]
  },
  {
   "cell_type": "code",
   "execution_count": 2,
   "metadata": {},
   "outputs": [],
   "source": [
    "customers=pd.read_csv('Input1_clientes_estructura.csv',sep=';')\n",
    "sales=pd.read_csv('Input2_clientes_venta.csv',sep=';')\n",
    "test=pd.read_csv('Input3_clientes_test.csv',sep=';')\n",
    "products_to_score=pd.read_excel('Product_To_Score.xlsx',sheets='Sheet1') # Products to be include in test"
   ]
  },
  {
   "cell_type": "code",
   "execution_count": 3,
   "metadata": {},
   "outputs": [
    {
     "data": {
      "text/plain": [
       "(20921, 6)"
      ]
     },
     "execution_count": 3,
     "metadata": {},
     "output_type": "execute_result"
    }
   ],
   "source": [
    "customers.shape"
   ]
  },
  {
   "cell_type": "code",
   "execution_count": 4,
   "metadata": {},
   "outputs": [
    {
     "data": {
      "text/html": [
       "<div>\n",
       "<style scoped>\n",
       "    .dataframe tbody tr th:only-of-type {\n",
       "        vertical-align: middle;\n",
       "    }\n",
       "\n",
       "    .dataframe tbody tr th {\n",
       "        vertical-align: top;\n",
       "    }\n",
       "\n",
       "    .dataframe thead th {\n",
       "        text-align: right;\n",
       "    }\n",
       "</style>\n",
       "<table border=\"1\" class=\"dataframe\">\n",
       "  <thead>\n",
       "    <tr style=\"text-align: right;\">\n",
       "      <th></th>\n",
       "      <th>Cliente</th>\n",
       "      <th>Regional2</th>\n",
       "      <th>Gerencia2</th>\n",
       "      <th>SubCanal2</th>\n",
       "      <th>Categoria</th>\n",
       "      <th>Nevera</th>\n",
       "    </tr>\n",
       "  </thead>\n",
       "  <tbody>\n",
       "    <tr>\n",
       "      <th>count</th>\n",
       "      <td>20921.000000</td>\n",
       "      <td>20921</td>\n",
       "      <td>20921</td>\n",
       "      <td>20921</td>\n",
       "      <td>20921</td>\n",
       "      <td>20921.000000</td>\n",
       "    </tr>\n",
       "    <tr>\n",
       "      <th>unique</th>\n",
       "      <td>NaN</td>\n",
       "      <td>1</td>\n",
       "      <td>11</td>\n",
       "      <td>32</td>\n",
       "      <td>6</td>\n",
       "      <td>NaN</td>\n",
       "    </tr>\n",
       "    <tr>\n",
       "      <th>top</th>\n",
       "      <td>NaN</td>\n",
       "      <td>Regional 1</td>\n",
       "      <td>Gerencia_10</td>\n",
       "      <td>Subcanal_3</td>\n",
       "      <td>Categoria_2</td>\n",
       "      <td>NaN</td>\n",
       "    </tr>\n",
       "    <tr>\n",
       "      <th>freq</th>\n",
       "      <td>NaN</td>\n",
       "      <td>20921</td>\n",
       "      <td>5441</td>\n",
       "      <td>8217</td>\n",
       "      <td>8773</td>\n",
       "      <td>NaN</td>\n",
       "    </tr>\n",
       "    <tr>\n",
       "      <th>mean</th>\n",
       "      <td>10461.000000</td>\n",
       "      <td>NaN</td>\n",
       "      <td>NaN</td>\n",
       "      <td>NaN</td>\n",
       "      <td>NaN</td>\n",
       "      <td>0.397830</td>\n",
       "    </tr>\n",
       "    <tr>\n",
       "      <th>std</th>\n",
       "      <td>6039.516827</td>\n",
       "      <td>NaN</td>\n",
       "      <td>NaN</td>\n",
       "      <td>NaN</td>\n",
       "      <td>NaN</td>\n",
       "      <td>0.489462</td>\n",
       "    </tr>\n",
       "    <tr>\n",
       "      <th>min</th>\n",
       "      <td>1.000000</td>\n",
       "      <td>NaN</td>\n",
       "      <td>NaN</td>\n",
       "      <td>NaN</td>\n",
       "      <td>NaN</td>\n",
       "      <td>0.000000</td>\n",
       "    </tr>\n",
       "    <tr>\n",
       "      <th>25%</th>\n",
       "      <td>5231.000000</td>\n",
       "      <td>NaN</td>\n",
       "      <td>NaN</td>\n",
       "      <td>NaN</td>\n",
       "      <td>NaN</td>\n",
       "      <td>0.000000</td>\n",
       "    </tr>\n",
       "    <tr>\n",
       "      <th>50%</th>\n",
       "      <td>10461.000000</td>\n",
       "      <td>NaN</td>\n",
       "      <td>NaN</td>\n",
       "      <td>NaN</td>\n",
       "      <td>NaN</td>\n",
       "      <td>0.000000</td>\n",
       "    </tr>\n",
       "    <tr>\n",
       "      <th>75%</th>\n",
       "      <td>15691.000000</td>\n",
       "      <td>NaN</td>\n",
       "      <td>NaN</td>\n",
       "      <td>NaN</td>\n",
       "      <td>NaN</td>\n",
       "      <td>1.000000</td>\n",
       "    </tr>\n",
       "    <tr>\n",
       "      <th>max</th>\n",
       "      <td>20921.000000</td>\n",
       "      <td>NaN</td>\n",
       "      <td>NaN</td>\n",
       "      <td>NaN</td>\n",
       "      <td>NaN</td>\n",
       "      <td>1.000000</td>\n",
       "    </tr>\n",
       "  </tbody>\n",
       "</table>\n",
       "</div>"
      ],
      "text/plain": [
       "             Cliente   Regional2    Gerencia2   SubCanal2    Categoria  \\\n",
       "count   20921.000000       20921        20921       20921        20921   \n",
       "unique           NaN           1           11          32            6   \n",
       "top              NaN  Regional 1  Gerencia_10  Subcanal_3  Categoria_2   \n",
       "freq             NaN       20921         5441        8217         8773   \n",
       "mean    10461.000000         NaN          NaN         NaN          NaN   \n",
       "std      6039.516827         NaN          NaN         NaN          NaN   \n",
       "min         1.000000         NaN          NaN         NaN          NaN   \n",
       "25%      5231.000000         NaN          NaN         NaN          NaN   \n",
       "50%     10461.000000         NaN          NaN         NaN          NaN   \n",
       "75%     15691.000000         NaN          NaN         NaN          NaN   \n",
       "max     20921.000000         NaN          NaN         NaN          NaN   \n",
       "\n",
       "              Nevera  \n",
       "count   20921.000000  \n",
       "unique           NaN  \n",
       "top              NaN  \n",
       "freq             NaN  \n",
       "mean        0.397830  \n",
       "std         0.489462  \n",
       "min         0.000000  \n",
       "25%         0.000000  \n",
       "50%         0.000000  \n",
       "75%         1.000000  \n",
       "max         1.000000  "
      ]
     },
     "execution_count": 4,
     "metadata": {},
     "output_type": "execute_result"
    }
   ],
   "source": [
    "customers.describe(include='all')"
   ]
  },
  {
   "cell_type": "code",
   "execution_count": 5,
   "metadata": {},
   "outputs": [
    {
     "data": {
      "text/plain": [
       "(1406116, 10)"
      ]
     },
     "execution_count": 5,
     "metadata": {},
     "output_type": "execute_result"
    }
   ],
   "source": [
    "sales.shape"
   ]
  },
  {
   "cell_type": "code",
   "execution_count": 6,
   "metadata": {},
   "outputs": [
    {
     "data": {
      "text/html": [
       "<div>\n",
       "<style scoped>\n",
       "    .dataframe tbody tr th:only-of-type {\n",
       "        vertical-align: middle;\n",
       "    }\n",
       "\n",
       "    .dataframe tbody tr th {\n",
       "        vertical-align: top;\n",
       "    }\n",
       "\n",
       "    .dataframe thead th {\n",
       "        text-align: right;\n",
       "    }\n",
       "</style>\n",
       "<table border=\"1\" class=\"dataframe\">\n",
       "  <thead>\n",
       "    <tr style=\"text-align: right;\">\n",
       "      <th></th>\n",
       "      <th>Año</th>\n",
       "      <th>Mes</th>\n",
       "      <th>Cliente</th>\n",
       "      <th>SegmentoPrecio2</th>\n",
       "      <th>Marca2</th>\n",
       "      <th>Cupo2</th>\n",
       "      <th>CapacidadEnvase2</th>\n",
       "      <th>Volumen</th>\n",
       "      <th>disc</th>\n",
       "      <th>nr</th>\n",
       "    </tr>\n",
       "  </thead>\n",
       "  <tbody>\n",
       "    <tr>\n",
       "      <th>count</th>\n",
       "      <td>1.406116e+06</td>\n",
       "      <td>1.406116e+06</td>\n",
       "      <td>1.406116e+06</td>\n",
       "      <td>1406116</td>\n",
       "      <td>1406116</td>\n",
       "      <td>1406116</td>\n",
       "      <td>1406116</td>\n",
       "      <td>1.406116e+06</td>\n",
       "      <td>1.406116e+06</td>\n",
       "      <td>1.406116e+06</td>\n",
       "    </tr>\n",
       "    <tr>\n",
       "      <th>unique</th>\n",
       "      <td>NaN</td>\n",
       "      <td>NaN</td>\n",
       "      <td>NaN</td>\n",
       "      <td>3</td>\n",
       "      <td>39</td>\n",
       "      <td>5</td>\n",
       "      <td>17</td>\n",
       "      <td>NaN</td>\n",
       "      <td>NaN</td>\n",
       "      <td>NaN</td>\n",
       "    </tr>\n",
       "    <tr>\n",
       "      <th>top</th>\n",
       "      <td>NaN</td>\n",
       "      <td>NaN</td>\n",
       "      <td>NaN</td>\n",
       "      <td>SegmentoPrecio_1</td>\n",
       "      <td>Marca_1</td>\n",
       "      <td>Cupo_2</td>\n",
       "      <td>CapacidadEnvase_10</td>\n",
       "      <td>NaN</td>\n",
       "      <td>NaN</td>\n",
       "      <td>NaN</td>\n",
       "    </tr>\n",
       "    <tr>\n",
       "      <th>freq</th>\n",
       "      <td>NaN</td>\n",
       "      <td>NaN</td>\n",
       "      <td>NaN</td>\n",
       "      <td>991679</td>\n",
       "      <td>406526</td>\n",
       "      <td>786172</td>\n",
       "      <td>707919</td>\n",
       "      <td>NaN</td>\n",
       "      <td>NaN</td>\n",
       "      <td>NaN</td>\n",
       "    </tr>\n",
       "    <tr>\n",
       "      <th>mean</th>\n",
       "      <td>2.019518e+03</td>\n",
       "      <td>6.865562e+00</td>\n",
       "      <td>8.328064e+03</td>\n",
       "      <td>NaN</td>\n",
       "      <td>NaN</td>\n",
       "      <td>NaN</td>\n",
       "      <td>NaN</td>\n",
       "      <td>2.294363e-01</td>\n",
       "      <td>-1.335855e+02</td>\n",
       "      <td>1.704834e+03</td>\n",
       "    </tr>\n",
       "    <tr>\n",
       "      <th>std</th>\n",
       "      <td>4.996729e-01</td>\n",
       "      <td>2.996953e+00</td>\n",
       "      <td>4.906400e+03</td>\n",
       "      <td>NaN</td>\n",
       "      <td>NaN</td>\n",
       "      <td>NaN</td>\n",
       "      <td>NaN</td>\n",
       "      <td>1.395798e+00</td>\n",
       "      <td>1.491833e+03</td>\n",
       "      <td>1.047079e+04</td>\n",
       "    </tr>\n",
       "    <tr>\n",
       "      <th>min</th>\n",
       "      <td>2.019000e+03</td>\n",
       "      <td>1.000000e+00</td>\n",
       "      <td>1.000000e+00</td>\n",
       "      <td>NaN</td>\n",
       "      <td>NaN</td>\n",
       "      <td>NaN</td>\n",
       "      <td>NaN</td>\n",
       "      <td>0.000000e+00</td>\n",
       "      <td>-4.794567e+05</td>\n",
       "      <td>0.000000e+00</td>\n",
       "    </tr>\n",
       "    <tr>\n",
       "      <th>25%</th>\n",
       "      <td>2.019000e+03</td>\n",
       "      <td>5.000000e+00</td>\n",
       "      <td>4.148000e+03</td>\n",
       "      <td>NaN</td>\n",
       "      <td>NaN</td>\n",
       "      <td>NaN</td>\n",
       "      <td>NaN</td>\n",
       "      <td>2.173441e-02</td>\n",
       "      <td>-2.877037e+01</td>\n",
       "      <td>1.778085e+02</td>\n",
       "    </tr>\n",
       "    <tr>\n",
       "      <th>50%</th>\n",
       "      <td>2.020000e+03</td>\n",
       "      <td>7.000000e+00</td>\n",
       "      <td>8.097000e+03</td>\n",
       "      <td>NaN</td>\n",
       "      <td>NaN</td>\n",
       "      <td>NaN</td>\n",
       "      <td>NaN</td>\n",
       "      <td>5.268947e-02</td>\n",
       "      <td>0.000000e+00</td>\n",
       "      <td>4.233184e+02</td>\n",
       "    </tr>\n",
       "    <tr>\n",
       "      <th>75%</th>\n",
       "      <td>2.020000e+03</td>\n",
       "      <td>9.000000e+00</td>\n",
       "      <td>1.231800e+04</td>\n",
       "      <td>NaN</td>\n",
       "      <td>NaN</td>\n",
       "      <td>NaN</td>\n",
       "      <td>NaN</td>\n",
       "      <td>1.496381e-01</td>\n",
       "      <td>0.000000e+00</td>\n",
       "      <td>1.117963e+03</td>\n",
       "    </tr>\n",
       "    <tr>\n",
       "      <th>max</th>\n",
       "      <td>2.020000e+03</td>\n",
       "      <td>1.200000e+01</td>\n",
       "      <td>2.058000e+04</td>\n",
       "      <td>NaN</td>\n",
       "      <td>NaN</td>\n",
       "      <td>NaN</td>\n",
       "      <td>NaN</td>\n",
       "      <td>3.000000e+02</td>\n",
       "      <td>0.000000e+00</td>\n",
       "      <td>2.302965e+06</td>\n",
       "    </tr>\n",
       "  </tbody>\n",
       "</table>\n",
       "</div>"
      ],
      "text/plain": [
       "                 Año           Mes       Cliente   SegmentoPrecio2   Marca2  \\\n",
       "count   1.406116e+06  1.406116e+06  1.406116e+06           1406116  1406116   \n",
       "unique           NaN           NaN           NaN                 3       39   \n",
       "top              NaN           NaN           NaN  SegmentoPrecio_1  Marca_1   \n",
       "freq             NaN           NaN           NaN            991679   406526   \n",
       "mean    2.019518e+03  6.865562e+00  8.328064e+03               NaN      NaN   \n",
       "std     4.996729e-01  2.996953e+00  4.906400e+03               NaN      NaN   \n",
       "min     2.019000e+03  1.000000e+00  1.000000e+00               NaN      NaN   \n",
       "25%     2.019000e+03  5.000000e+00  4.148000e+03               NaN      NaN   \n",
       "50%     2.020000e+03  7.000000e+00  8.097000e+03               NaN      NaN   \n",
       "75%     2.020000e+03  9.000000e+00  1.231800e+04               NaN      NaN   \n",
       "max     2.020000e+03  1.200000e+01  2.058000e+04               NaN      NaN   \n",
       "\n",
       "          Cupo2    CapacidadEnvase2       Volumen          disc            nr  \n",
       "count   1406116             1406116  1.406116e+06  1.406116e+06  1.406116e+06  \n",
       "unique        5                  17           NaN           NaN           NaN  \n",
       "top      Cupo_2  CapacidadEnvase_10           NaN           NaN           NaN  \n",
       "freq     786172              707919           NaN           NaN           NaN  \n",
       "mean        NaN                 NaN  2.294363e-01 -1.335855e+02  1.704834e+03  \n",
       "std         NaN                 NaN  1.395798e+00  1.491833e+03  1.047079e+04  \n",
       "min         NaN                 NaN  0.000000e+00 -4.794567e+05  0.000000e+00  \n",
       "25%         NaN                 NaN  2.173441e-02 -2.877037e+01  1.778085e+02  \n",
       "50%         NaN                 NaN  5.268947e-02  0.000000e+00  4.233184e+02  \n",
       "75%         NaN                 NaN  1.496381e-01  0.000000e+00  1.117963e+03  \n",
       "max         NaN                 NaN  3.000000e+02  0.000000e+00  2.302965e+06  "
      ]
     },
     "execution_count": 6,
     "metadata": {},
     "output_type": "execute_result"
    }
   ],
   "source": [
    "sales.describe(include='all')"
   ]
  },
  {
   "cell_type": "code",
   "execution_count": 7,
   "metadata": {},
   "outputs": [],
   "source": [
    "sales['NR/Vol']=sales['nr']/sales['Volumen']\n",
    "sales['NR/Vol']=sales['NR/Vol'].fillna(0)"
   ]
  },
  {
   "cell_type": "code",
   "execution_count": 8,
   "metadata": {},
   "outputs": [
    {
     "data": {
      "text/plain": [
       "(9302, 6)"
      ]
     },
     "execution_count": 8,
     "metadata": {},
     "output_type": "execute_result"
    }
   ],
   "source": [
    "test.shape"
   ]
  },
  {
   "cell_type": "code",
   "execution_count": 9,
   "metadata": {},
   "outputs": [
    {
     "data": {
      "text/html": [
       "<div>\n",
       "<style scoped>\n",
       "    .dataframe tbody tr th:only-of-type {\n",
       "        vertical-align: middle;\n",
       "    }\n",
       "\n",
       "    .dataframe tbody tr th {\n",
       "        vertical-align: top;\n",
       "    }\n",
       "\n",
       "    .dataframe thead th {\n",
       "        text-align: right;\n",
       "    }\n",
       "</style>\n",
       "<table border=\"1\" class=\"dataframe\">\n",
       "  <thead>\n",
       "    <tr style=\"text-align: right;\">\n",
       "      <th></th>\n",
       "      <th>Cliente</th>\n",
       "      <th>Marca1</th>\n",
       "      <th>Marca2</th>\n",
       "      <th>Marca3</th>\n",
       "      <th>Marca_Inno1</th>\n",
       "      <th>Marca_Inno2</th>\n",
       "    </tr>\n",
       "  </thead>\n",
       "  <tbody>\n",
       "    <tr>\n",
       "      <th>count</th>\n",
       "      <td>9302.000000</td>\n",
       "      <td>0.0</td>\n",
       "      <td>0.0</td>\n",
       "      <td>0.0</td>\n",
       "      <td>0.0</td>\n",
       "      <td>0.0</td>\n",
       "    </tr>\n",
       "    <tr>\n",
       "      <th>mean</th>\n",
       "      <td>9837.522038</td>\n",
       "      <td>NaN</td>\n",
       "      <td>NaN</td>\n",
       "      <td>NaN</td>\n",
       "      <td>NaN</td>\n",
       "      <td>NaN</td>\n",
       "    </tr>\n",
       "    <tr>\n",
       "      <th>std</th>\n",
       "      <td>5623.122776</td>\n",
       "      <td>NaN</td>\n",
       "      <td>NaN</td>\n",
       "      <td>NaN</td>\n",
       "      <td>NaN</td>\n",
       "      <td>NaN</td>\n",
       "    </tr>\n",
       "    <tr>\n",
       "      <th>min</th>\n",
       "      <td>1.000000</td>\n",
       "      <td>NaN</td>\n",
       "      <td>NaN</td>\n",
       "      <td>NaN</td>\n",
       "      <td>NaN</td>\n",
       "      <td>NaN</td>\n",
       "    </tr>\n",
       "    <tr>\n",
       "      <th>25%</th>\n",
       "      <td>4886.000000</td>\n",
       "      <td>NaN</td>\n",
       "      <td>NaN</td>\n",
       "      <td>NaN</td>\n",
       "      <td>NaN</td>\n",
       "      <td>NaN</td>\n",
       "    </tr>\n",
       "    <tr>\n",
       "      <th>50%</th>\n",
       "      <td>9668.500000</td>\n",
       "      <td>NaN</td>\n",
       "      <td>NaN</td>\n",
       "      <td>NaN</td>\n",
       "      <td>NaN</td>\n",
       "      <td>NaN</td>\n",
       "    </tr>\n",
       "    <tr>\n",
       "      <th>75%</th>\n",
       "      <td>14566.750000</td>\n",
       "      <td>NaN</td>\n",
       "      <td>NaN</td>\n",
       "      <td>NaN</td>\n",
       "      <td>NaN</td>\n",
       "      <td>NaN</td>\n",
       "    </tr>\n",
       "    <tr>\n",
       "      <th>max</th>\n",
       "      <td>20569.000000</td>\n",
       "      <td>NaN</td>\n",
       "      <td>NaN</td>\n",
       "      <td>NaN</td>\n",
       "      <td>NaN</td>\n",
       "      <td>NaN</td>\n",
       "    </tr>\n",
       "  </tbody>\n",
       "</table>\n",
       "</div>"
      ],
      "text/plain": [
       "            Cliente  Marca1  Marca2  Marca3  Marca_Inno1  Marca_Inno2\n",
       "count   9302.000000     0.0     0.0     0.0          0.0          0.0\n",
       "mean    9837.522038     NaN     NaN     NaN          NaN          NaN\n",
       "std     5623.122776     NaN     NaN     NaN          NaN          NaN\n",
       "min        1.000000     NaN     NaN     NaN          NaN          NaN\n",
       "25%     4886.000000     NaN     NaN     NaN          NaN          NaN\n",
       "50%     9668.500000     NaN     NaN     NaN          NaN          NaN\n",
       "75%    14566.750000     NaN     NaN     NaN          NaN          NaN\n",
       "max    20569.000000     NaN     NaN     NaN          NaN          NaN"
      ]
     },
     "execution_count": 9,
     "metadata": {},
     "output_type": "execute_result"
    }
   ],
   "source": [
    "test.describe(include='all')"
   ]
  },
  {
   "cell_type": "code",
   "execution_count": 10,
   "metadata": {},
   "outputs": [
    {
     "data": {
      "text/html": [
       "<div>\n",
       "<style scoped>\n",
       "    .dataframe tbody tr th:only-of-type {\n",
       "        vertical-align: middle;\n",
       "    }\n",
       "\n",
       "    .dataframe tbody tr th {\n",
       "        vertical-align: top;\n",
       "    }\n",
       "\n",
       "    .dataframe thead th {\n",
       "        text-align: right;\n",
       "    }\n",
       "</style>\n",
       "<table border=\"1\" class=\"dataframe\">\n",
       "  <thead>\n",
       "    <tr style=\"text-align: right;\">\n",
       "      <th></th>\n",
       "      <th>ID</th>\n",
       "      <th>Marca2</th>\n",
       "      <th>Cupo2</th>\n",
       "      <th>CapacidadEnvase</th>\n",
       "    </tr>\n",
       "  </thead>\n",
       "  <tbody>\n",
       "    <tr>\n",
       "      <th>0</th>\n",
       "      <td>1</td>\n",
       "      <td>Marca_20</td>\n",
       "      <td>Cupo_3</td>\n",
       "      <td>CapacidadEnvase_9</td>\n",
       "    </tr>\n",
       "    <tr>\n",
       "      <th>1</th>\n",
       "      <td>2</td>\n",
       "      <td>Marca_16</td>\n",
       "      <td>Cupo_2</td>\n",
       "      <td>CapacidadEnvase_10</td>\n",
       "    </tr>\n",
       "    <tr>\n",
       "      <th>2</th>\n",
       "      <td>3</td>\n",
       "      <td>Marca_9</td>\n",
       "      <td>Cupo_3</td>\n",
       "      <td>CapacidadEnvase_12</td>\n",
       "    </tr>\n",
       "    <tr>\n",
       "      <th>3</th>\n",
       "      <td>4</td>\n",
       "      <td>Marca_38</td>\n",
       "      <td>Cupo_2</td>\n",
       "      <td>CapacidadEnvase_10</td>\n",
       "    </tr>\n",
       "    <tr>\n",
       "      <th>4</th>\n",
       "      <td>5</td>\n",
       "      <td>Marca_39</td>\n",
       "      <td>Cupo_2</td>\n",
       "      <td>CapacidadEnvase_10</td>\n",
       "    </tr>\n",
       "  </tbody>\n",
       "</table>\n",
       "</div>"
      ],
      "text/plain": [
       "   ID    Marca2   Cupo2     CapacidadEnvase\n",
       "0   1  Marca_20  Cupo_3   CapacidadEnvase_9\n",
       "1   2  Marca_16  Cupo_2  CapacidadEnvase_10\n",
       "2   3   Marca_9  Cupo_3  CapacidadEnvase_12\n",
       "3   4  Marca_38  Cupo_2  CapacidadEnvase_10\n",
       "4   5  Marca_39  Cupo_2  CapacidadEnvase_10"
      ]
     },
     "execution_count": 10,
     "metadata": {},
     "output_type": "execute_result"
    }
   ],
   "source": [
    "products_to_score.head()"
   ]
  },
  {
   "cell_type": "markdown",
   "metadata": {},
   "source": [
    "# 2) Master Data"
   ]
  },
  {
   "cell_type": "markdown",
   "metadata": {},
   "source": [
    "## Products"
   ]
  },
  {
   "cell_type": "code",
   "execution_count": 11,
   "metadata": {},
   "outputs": [],
   "source": [
    "products=sales.groupby(['Marca2','Cupo2','CapacidadEnvase2','SegmentoPrecio2'],as_index=False)['Volumen'].sum()"
   ]
  },
  {
   "cell_type": "code",
   "execution_count": 12,
   "metadata": {},
   "outputs": [
    {
     "data": {
      "text/plain": [
       "(105, 5)"
      ]
     },
     "execution_count": 12,
     "metadata": {},
     "output_type": "execute_result"
    }
   ],
   "source": [
    "products.shape"
   ]
  },
  {
   "cell_type": "code",
   "execution_count": 13,
   "metadata": {},
   "outputs": [],
   "source": [
    "products=products.reset_index()"
   ]
  },
  {
   "cell_type": "code",
   "execution_count": 14,
   "metadata": {},
   "outputs": [
    {
     "data": {
      "text/plain": [
       "Index(['index', 'Marca2', 'Cupo2', 'CapacidadEnvase2', 'SegmentoPrecio2',\n",
       "       'Volumen'],\n",
       "      dtype='object')"
      ]
     },
     "execution_count": 14,
     "metadata": {},
     "output_type": "execute_result"
    }
   ],
   "source": [
    "products.columns"
   ]
  },
  {
   "cell_type": "code",
   "execution_count": 15,
   "metadata": {},
   "outputs": [],
   "source": [
    "products.columns=['product_id', 'Marca2', 'Cupo2', 'CapacidadEnvase2', 'SegmentoPrecio2',\n",
    "       'Volumen']"
   ]
  },
  {
   "cell_type": "code",
   "execution_count": 16,
   "metadata": {},
   "outputs": [],
   "source": [
    "products=products.drop('Volumen',axis=1)"
   ]
  },
  {
   "cell_type": "markdown",
   "metadata": {},
   "source": [
    "# 3) Explortory Data Analysis"
   ]
  },
  {
   "cell_type": "markdown",
   "metadata": {},
   "source": [
    "## Outliers"
   ]
  },
  {
   "cell_type": "code",
   "execution_count": 17,
   "metadata": {},
   "outputs": [
    {
     "data": {
      "image/png": "[encoded data removed]",
      "text/plain": [
       "<Figure size 432x288 with 1 Axes>"
      ]
     },
     "metadata": {
      "needs_background": "light"
     },
     "output_type": "display_data"
    }
   ],
   "source": [
    "fig1, ax1 = plt.subplots()\n",
    "ax1.set_title('Boxplot Volume')\n",
    "ax1.boxplot(sales['Volumen'])\n",
    "plt.show()"
   ]
  },
  {
   "cell_type": "code",
   "execution_count": 18,
   "metadata": {},
   "outputs": [
    {
     "data": {
      "image/png": "[encoded data removed]",
      "text/plain": [
       "<Figure size 432x288 with 1 Axes>"
      ]
     },
     "metadata": {
      "needs_background": "light"
     },
     "output_type": "display_data"
    }
   ],
   "source": [
    "fig1, ax1 = plt.subplots()\n",
    "ax1.set_title('Boxplot NR')\n",
    "ax1.boxplot(sales['nr'])\n",
    "plt.show()"
   ]
  },
  {
   "cell_type": "code",
   "execution_count": 19,
   "metadata": {},
   "outputs": [
    {
     "data": {
      "image/png": "[encoded data removed]",
      "text/plain": [
       "<Figure size 432x288 with 1 Axes>"
      ]
     },
     "metadata": {
      "needs_background": "light"
     },
     "output_type": "display_data"
    }
   ],
   "source": [
    "fig1, ax1 = plt.subplots()\n",
    "ax1.set_title('Boxplot NR/Vol')\n",
    "ax1.boxplot(sales['NR/Vol'])\n",
    "plt.show()"
   ]
  },
  {
   "cell_type": "code",
   "execution_count": 20,
   "metadata": {},
   "outputs": [
    {
     "data": {
      "image/png": "[encoded data removed]",
      "text/plain": [
       "<Figure size 432x288 with 1 Axes>"
      ]
     },
     "metadata": {
      "needs_background": "light"
     },
     "output_type": "display_data"
    }
   ],
   "source": [
    "fig1, ax1 = plt.subplots()\n",
    "ax1.set_title('Boxplot Discount')\n",
    "ax1.boxplot(sales['disc'])\n",
    "plt.show()"
   ]
  },
  {
   "cell_type": "code",
   "execution_count": 21,
   "metadata": {},
   "outputs": [],
   "source": [
    "# Remove outliers\n",
    "\n",
    "sales=sales[(sales['Volumen']<200) & (sales['NR/Vol']<2500000) & (sales['disc']>-450000)]"
   ]
  },
  {
   "cell_type": "code",
   "execution_count": 22,
   "metadata": {},
   "outputs": [
    {
     "data": {
      "text/plain": [
       "(1406108, 11)"
      ]
     },
     "execution_count": 22,
     "metadata": {},
     "output_type": "execute_result"
    }
   ],
   "source": [
    "sales.shape"
   ]
  },
  {
   "cell_type": "markdown",
   "metadata": {},
   "source": [
    "## Sales history"
   ]
  },
  {
   "cell_type": "code",
   "execution_count": 23,
   "metadata": {},
   "outputs": [],
   "source": [
    "month_sales=sales.groupby(['Año','Mes'],as_index=False)['Volumen','nr'].sum()\n",
    "month_sales=month_sales.reset_index()"
   ]
  },
  {
   "cell_type": "code",
   "execution_count": 24,
   "metadata": {},
   "outputs": [],
   "source": [
    "month_sales['NR/Vol']=month_sales['nr']/month_sales['Volumen']"
   ]
  },
  {
   "cell_type": "code",
   "execution_count": 25,
   "metadata": {},
   "outputs": [
    {
     "data": {
      "text/html": [
       "<div>\n",
       "<style scoped>\n",
       "    .dataframe tbody tr th:only-of-type {\n",
       "        vertical-align: middle;\n",
       "    }\n",
       "\n",
       "    .dataframe tbody tr th {\n",
       "        vertical-align: top;\n",
       "    }\n",
       "\n",
       "    .dataframe thead th {\n",
       "        text-align: right;\n",
       "    }\n",
       "</style>\n",
       "<table border=\"1\" class=\"dataframe\">\n",
       "  <thead>\n",
       "    <tr style=\"text-align: right;\">\n",
       "      <th></th>\n",
       "      <th>index</th>\n",
       "      <th>Año</th>\n",
       "      <th>Mes</th>\n",
       "      <th>Volumen</th>\n",
       "      <th>nr</th>\n",
       "      <th>NR/Vol</th>\n",
       "    </tr>\n",
       "  </thead>\n",
       "  <tbody>\n",
       "    <tr>\n",
       "      <th>0</th>\n",
       "      <td>0</td>\n",
       "      <td>2019</td>\n",
       "      <td>5</td>\n",
       "      <td>17792.191774</td>\n",
       "      <td>1.282201e+08</td>\n",
       "      <td>7206.540297</td>\n",
       "    </tr>\n",
       "    <tr>\n",
       "      <th>1</th>\n",
       "      <td>1</td>\n",
       "      <td>2019</td>\n",
       "      <td>6</td>\n",
       "      <td>19686.564201</td>\n",
       "      <td>1.425519e+08</td>\n",
       "      <td>7241.076245</td>\n",
       "    </tr>\n",
       "    <tr>\n",
       "      <th>2</th>\n",
       "      <td>2</td>\n",
       "      <td>2019</td>\n",
       "      <td>7</td>\n",
       "      <td>19593.604638</td>\n",
       "      <td>1.409720e+08</td>\n",
       "      <td>7194.797019</td>\n",
       "    </tr>\n",
       "    <tr>\n",
       "      <th>3</th>\n",
       "      <td>3</td>\n",
       "      <td>2019</td>\n",
       "      <td>8</td>\n",
       "      <td>21007.150226</td>\n",
       "      <td>1.521367e+08</td>\n",
       "      <td>7242.138146</td>\n",
       "    </tr>\n",
       "    <tr>\n",
       "      <th>4</th>\n",
       "      <td>4</td>\n",
       "      <td>2019</td>\n",
       "      <td>9</td>\n",
       "      <td>20226.404651</td>\n",
       "      <td>1.463797e+08</td>\n",
       "      <td>7237.059864</td>\n",
       "    </tr>\n",
       "    <tr>\n",
       "      <th>5</th>\n",
       "      <td>5</td>\n",
       "      <td>2019</td>\n",
       "      <td>10</td>\n",
       "      <td>20346.258446</td>\n",
       "      <td>1.500796e+08</td>\n",
       "      <td>7376.273451</td>\n",
       "    </tr>\n",
       "    <tr>\n",
       "      <th>6</th>\n",
       "      <td>6</td>\n",
       "      <td>2019</td>\n",
       "      <td>11</td>\n",
       "      <td>24266.702768</td>\n",
       "      <td>1.809040e+08</td>\n",
       "      <td>7454.824099</td>\n",
       "    </tr>\n",
       "    <tr>\n",
       "      <th>7</th>\n",
       "      <td>7</td>\n",
       "      <td>2019</td>\n",
       "      <td>12</td>\n",
       "      <td>28515.841201</td>\n",
       "      <td>2.222373e+08</td>\n",
       "      <td>7793.469608</td>\n",
       "    </tr>\n",
       "    <tr>\n",
       "      <th>8</th>\n",
       "      <td>8</td>\n",
       "      <td>2020</td>\n",
       "      <td>1</td>\n",
       "      <td>19345.840832</td>\n",
       "      <td>1.443545e+08</td>\n",
       "      <td>7461.785578</td>\n",
       "    </tr>\n",
       "    <tr>\n",
       "      <th>9</th>\n",
       "      <td>9</td>\n",
       "      <td>2020</td>\n",
       "      <td>2</td>\n",
       "      <td>16390.290080</td>\n",
       "      <td>1.237786e+08</td>\n",
       "      <td>7551.946692</td>\n",
       "    </tr>\n",
       "    <tr>\n",
       "      <th>10</th>\n",
       "      <td>10</td>\n",
       "      <td>2020</td>\n",
       "      <td>3</td>\n",
       "      <td>12573.384172</td>\n",
       "      <td>9.484407e+07</td>\n",
       "      <td>7543.241365</td>\n",
       "    </tr>\n",
       "    <tr>\n",
       "      <th>11</th>\n",
       "      <td>11</td>\n",
       "      <td>2020</td>\n",
       "      <td>4</td>\n",
       "      <td>6420.315458</td>\n",
       "      <td>4.778272e+07</td>\n",
       "      <td>7442.425059</td>\n",
       "    </tr>\n",
       "    <tr>\n",
       "      <th>12</th>\n",
       "      <td>12</td>\n",
       "      <td>2020</td>\n",
       "      <td>5</td>\n",
       "      <td>12787.398800</td>\n",
       "      <td>9.550144e+07</td>\n",
       "      <td>7468.402135</td>\n",
       "    </tr>\n",
       "    <tr>\n",
       "      <th>13</th>\n",
       "      <td>13</td>\n",
       "      <td>2020</td>\n",
       "      <td>6</td>\n",
       "      <td>18432.407986</td>\n",
       "      <td>1.376436e+08</td>\n",
       "      <td>7467.476945</td>\n",
       "    </tr>\n",
       "    <tr>\n",
       "      <th>14</th>\n",
       "      <td>14</td>\n",
       "      <td>2020</td>\n",
       "      <td>7</td>\n",
       "      <td>21777.867972</td>\n",
       "      <td>1.627332e+08</td>\n",
       "      <td>7472.413343</td>\n",
       "    </tr>\n",
       "    <tr>\n",
       "      <th>15</th>\n",
       "      <td>15</td>\n",
       "      <td>2020</td>\n",
       "      <td>8</td>\n",
       "      <td>20757.655817</td>\n",
       "      <td>1.546304e+08</td>\n",
       "      <td>7449.317552</td>\n",
       "    </tr>\n",
       "    <tr>\n",
       "      <th>16</th>\n",
       "      <td>16</td>\n",
       "      <td>2020</td>\n",
       "      <td>9</td>\n",
       "      <td>21323.265344</td>\n",
       "      <td>1.613920e+08</td>\n",
       "      <td>7568.822521</td>\n",
       "    </tr>\n",
       "  </tbody>\n",
       "</table>\n",
       "</div>"
      ],
      "text/plain": [
       "    index   Año  Mes       Volumen            nr       NR/Vol\n",
       "0       0  2019    5  17792.191774  1.282201e+08  7206.540297\n",
       "1       1  2019    6  19686.564201  1.425519e+08  7241.076245\n",
       "2       2  2019    7  19593.604638  1.409720e+08  7194.797019\n",
       "3       3  2019    8  21007.150226  1.521367e+08  7242.138146\n",
       "4       4  2019    9  20226.404651  1.463797e+08  7237.059864\n",
       "5       5  2019   10  20346.258446  1.500796e+08  7376.273451\n",
       "6       6  2019   11  24266.702768  1.809040e+08  7454.824099\n",
       "7       7  2019   12  28515.841201  2.222373e+08  7793.469608\n",
       "8       8  2020    1  19345.840832  1.443545e+08  7461.785578\n",
       "9       9  2020    2  16390.290080  1.237786e+08  7551.946692\n",
       "10     10  2020    3  12573.384172  9.484407e+07  7543.241365\n",
       "11     11  2020    4   6420.315458  4.778272e+07  7442.425059\n",
       "12     12  2020    5  12787.398800  9.550144e+07  7468.402135\n",
       "13     13  2020    6  18432.407986  1.376436e+08  7467.476945\n",
       "14     14  2020    7  21777.867972  1.627332e+08  7472.413343\n",
       "15     15  2020    8  20757.655817  1.546304e+08  7449.317552\n",
       "16     16  2020    9  21323.265344  1.613920e+08  7568.822521"
      ]
     },
     "execution_count": 25,
     "metadata": {},
     "output_type": "execute_result"
    }
   ],
   "source": [
    "month_sales"
   ]
  },
  {
   "cell_type": "code",
   "execution_count": 26,
   "metadata": {},
   "outputs": [
    {
     "data": {
      "image/png": "[encoded data removed]",
      "text/plain": [
       "<Figure size 432x288 with 1 Axes>"
      ]
     },
     "metadata": {
      "needs_background": "light"
     },
     "output_type": "display_data"
    }
   ],
   "source": [
    "plt.plot(month_sales['index'],month_sales['Volumen'])\n",
    "plt.title('Sales Vol 2019-2020 CO')\n",
    "plt.show()"
   ]
  },
  {
   "cell_type": "code",
   "execution_count": 27,
   "metadata": {},
   "outputs": [
    {
     "data": {
      "image/png": "[encoded data removed]",
      "text/plain": [
       "<Figure size 432x288 with 1 Axes>"
      ]
     },
     "metadata": {
      "needs_background": "light"
     },
     "output_type": "display_data"
    }
   ],
   "source": [
    "plt.plot(month_sales['index'],month_sales['nr'])\n",
    "plt.title('NR 2019-2020 CO')\n",
    "plt.show()"
   ]
  },
  {
   "cell_type": "code",
   "execution_count": 28,
   "metadata": {},
   "outputs": [
    {
     "data": {
      "image/png": "[encoded data removed]",
      "text/plain": [
       "<Figure size 432x288 with 1 Axes>"
      ]
     },
     "metadata": {
      "needs_background": "light"
     },
     "output_type": "display_data"
    }
   ],
   "source": [
    "plt.plot(month_sales['index'],month_sales['NR/Vol'])\n",
    "plt.title('NR/Vol 2019-2020 CO')\n",
    "plt.show()"
   ]
  },
  {
   "cell_type": "markdown",
   "metadata": {},
   "source": [
    "Sales decreased a lot due to the COVID aoutbreak. The prices have been increased since last year"
   ]
  },
  {
   "cell_type": "markdown",
   "metadata": {},
   "source": [
    "## Other Info"
   ]
  },
  {
   "cell_type": "code",
   "execution_count": 29,
   "metadata": {},
   "outputs": [
    {
     "data": {
      "text/plain": [
       "17009"
      ]
     },
     "execution_count": 29,
     "metadata": {},
     "output_type": "execute_result"
    }
   ],
   "source": [
    "len(sales.Cliente.unique())"
   ]
  },
  {
   "cell_type": "code",
   "execution_count": 30,
   "metadata": {},
   "outputs": [
    {
     "data": {
      "text/plain": [
       "9302"
      ]
     },
     "execution_count": 30,
     "metadata": {},
     "output_type": "execute_result"
    }
   ],
   "source": [
    "len(test.Cliente.unique())"
   ]
  },
  {
   "cell_type": "markdown",
   "metadata": {},
   "source": [
    "# 4) Data Preprocessing"
   ]
  },
  {
   "cell_type": "code",
   "execution_count": 31,
   "metadata": {},
   "outputs": [],
   "source": [
    "products_to_score['Llave']=products_to_score.Marca2+products_to_score.Cupo2+products_to_score.CapacidadEnvase"
   ]
  },
  {
   "cell_type": "code",
   "execution_count": 32,
   "metadata": {},
   "outputs": [],
   "source": [
    "products['Llave']=products.Marca2+products.Cupo2+products.CapacidadEnvase2"
   ]
  },
  {
   "cell_type": "code",
   "execution_count": 33,
   "metadata": {},
   "outputs": [
    {
     "data": {
      "text/html": [
       "<div>\n",
       "<style scoped>\n",
       "    .dataframe tbody tr th:only-of-type {\n",
       "        vertical-align: middle;\n",
       "    }\n",
       "\n",
       "    .dataframe tbody tr th {\n",
       "        vertical-align: top;\n",
       "    }\n",
       "\n",
       "    .dataframe thead th {\n",
       "        text-align: right;\n",
       "    }\n",
       "</style>\n",
       "<table border=\"1\" class=\"dataframe\">\n",
       "  <thead>\n",
       "    <tr style=\"text-align: right;\">\n",
       "      <th></th>\n",
       "      <th>ID</th>\n",
       "      <th>Marca2</th>\n",
       "      <th>Cupo2</th>\n",
       "      <th>CapacidadEnvase</th>\n",
       "      <th>Llave</th>\n",
       "      <th>product_id</th>\n",
       "      <th>SegmentoPrecio2</th>\n",
       "    </tr>\n",
       "  </thead>\n",
       "  <tbody>\n",
       "    <tr>\n",
       "      <th>0</th>\n",
       "      <td>1</td>\n",
       "      <td>Marca_20</td>\n",
       "      <td>Cupo_3</td>\n",
       "      <td>CapacidadEnvase_9</td>\n",
       "      <td>Marca_20Cupo_3CapacidadEnvase_9</td>\n",
       "      <td>42</td>\n",
       "      <td>SegmentoPrecio_1</td>\n",
       "    </tr>\n",
       "    <tr>\n",
       "      <th>1</th>\n",
       "      <td>2</td>\n",
       "      <td>Marca_16</td>\n",
       "      <td>Cupo_2</td>\n",
       "      <td>CapacidadEnvase_10</td>\n",
       "      <td>Marca_16Cupo_2CapacidadEnvase_10</td>\n",
       "      <td>26</td>\n",
       "      <td>SegmentoPrecio_2</td>\n",
       "    </tr>\n",
       "    <tr>\n",
       "      <th>2</th>\n",
       "      <td>3</td>\n",
       "      <td>Marca_9</td>\n",
       "      <td>Cupo_3</td>\n",
       "      <td>CapacidadEnvase_12</td>\n",
       "      <td>Marca_9Cupo_3CapacidadEnvase_12</td>\n",
       "      <td>102</td>\n",
       "      <td>SegmentoPrecio_3</td>\n",
       "    </tr>\n",
       "    <tr>\n",
       "      <th>3</th>\n",
       "      <td>4</td>\n",
       "      <td>Marca_38</td>\n",
       "      <td>Cupo_2</td>\n",
       "      <td>CapacidadEnvase_10</td>\n",
       "      <td>Marca_38Cupo_2CapacidadEnvase_10</td>\n",
       "      <td>69</td>\n",
       "      <td>SegmentoPrecio_1</td>\n",
       "    </tr>\n",
       "    <tr>\n",
       "      <th>4</th>\n",
       "      <td>5</td>\n",
       "      <td>Marca_39</td>\n",
       "      <td>Cupo_2</td>\n",
       "      <td>CapacidadEnvase_10</td>\n",
       "      <td>Marca_39Cupo_2CapacidadEnvase_10</td>\n",
       "      <td>70</td>\n",
       "      <td>SegmentoPrecio_3</td>\n",
       "    </tr>\n",
       "  </tbody>\n",
       "</table>\n",
       "</div>"
      ],
      "text/plain": [
       "   ID    Marca2   Cupo2     CapacidadEnvase                             Llave  \\\n",
       "0   1  Marca_20  Cupo_3   CapacidadEnvase_9   Marca_20Cupo_3CapacidadEnvase_9   \n",
       "1   2  Marca_16  Cupo_2  CapacidadEnvase_10  Marca_16Cupo_2CapacidadEnvase_10   \n",
       "2   3   Marca_9  Cupo_3  CapacidadEnvase_12   Marca_9Cupo_3CapacidadEnvase_12   \n",
       "3   4  Marca_38  Cupo_2  CapacidadEnvase_10  Marca_38Cupo_2CapacidadEnvase_10   \n",
       "4   5  Marca_39  Cupo_2  CapacidadEnvase_10  Marca_39Cupo_2CapacidadEnvase_10   \n",
       "\n",
       "   product_id   SegmentoPrecio2  \n",
       "0          42  SegmentoPrecio_1  \n",
       "1          26  SegmentoPrecio_2  \n",
       "2         102  SegmentoPrecio_3  \n",
       "3          69  SegmentoPrecio_1  \n",
       "4          70  SegmentoPrecio_3  "
      ]
     },
     "execution_count": 33,
     "metadata": {},
     "output_type": "execute_result"
    }
   ],
   "source": [
    "products_to_score=products_to_score.merge(products[['Llave','product_id']],how='left',on='Llave')\n",
    "products_to_score=products_to_score.merge(products[['product_id','SegmentoPrecio2']],how='left',on='product_id')\n",
    "products_to_score"
   ]
  },
  {
   "cell_type": "code",
   "execution_count": 34,
   "metadata": {
    "scrolled": true
   },
   "outputs": [
    {
     "data": {
      "text/html": [
       "<div>\n",
       "<style scoped>\n",
       "    .dataframe tbody tr th:only-of-type {\n",
       "        vertical-align: middle;\n",
       "    }\n",
       "\n",
       "    .dataframe tbody tr th {\n",
       "        vertical-align: top;\n",
       "    }\n",
       "\n",
       "    .dataframe thead th {\n",
       "        text-align: right;\n",
       "    }\n",
       "</style>\n",
       "<table border=\"1\" class=\"dataframe\">\n",
       "  <thead>\n",
       "    <tr style=\"text-align: right;\">\n",
       "      <th></th>\n",
       "      <th>Cliente</th>\n",
       "      <th>Marca1</th>\n",
       "      <th>Marca2</th>\n",
       "      <th>Marca3</th>\n",
       "      <th>Marca_Inno1</th>\n",
       "      <th>Marca_Inno2</th>\n",
       "    </tr>\n",
       "  </thead>\n",
       "  <tbody>\n",
       "    <tr>\n",
       "      <th>0</th>\n",
       "      <td>10</td>\n",
       "      <td>NaN</td>\n",
       "      <td>NaN</td>\n",
       "      <td>NaN</td>\n",
       "      <td>NaN</td>\n",
       "      <td>NaN</td>\n",
       "    </tr>\n",
       "    <tr>\n",
       "      <th>1</th>\n",
       "      <td>12</td>\n",
       "      <td>NaN</td>\n",
       "      <td>NaN</td>\n",
       "      <td>NaN</td>\n",
       "      <td>NaN</td>\n",
       "      <td>NaN</td>\n",
       "    </tr>\n",
       "    <tr>\n",
       "      <th>2</th>\n",
       "      <td>14</td>\n",
       "      <td>NaN</td>\n",
       "      <td>NaN</td>\n",
       "      <td>NaN</td>\n",
       "      <td>NaN</td>\n",
       "      <td>NaN</td>\n",
       "    </tr>\n",
       "    <tr>\n",
       "      <th>3</th>\n",
       "      <td>15</td>\n",
       "      <td>NaN</td>\n",
       "      <td>NaN</td>\n",
       "      <td>NaN</td>\n",
       "      <td>NaN</td>\n",
       "      <td>NaN</td>\n",
       "    </tr>\n",
       "    <tr>\n",
       "      <th>4</th>\n",
       "      <td>18</td>\n",
       "      <td>NaN</td>\n",
       "      <td>NaN</td>\n",
       "      <td>NaN</td>\n",
       "      <td>NaN</td>\n",
       "      <td>NaN</td>\n",
       "    </tr>\n",
       "  </tbody>\n",
       "</table>\n",
       "</div>"
      ],
      "text/plain": [
       "   Cliente  Marca1  Marca2  Marca3  Marca_Inno1  Marca_Inno2\n",
       "0       10     NaN     NaN     NaN          NaN          NaN\n",
       "1       12     NaN     NaN     NaN          NaN          NaN\n",
       "2       14     NaN     NaN     NaN          NaN          NaN\n",
       "3       15     NaN     NaN     NaN          NaN          NaN\n",
       "4       18     NaN     NaN     NaN          NaN          NaN"
      ]
     },
     "execution_count": 34,
     "metadata": {},
     "output_type": "execute_result"
    }
   ],
   "source": [
    "test.head()"
   ]
  },
  {
   "cell_type": "code",
   "execution_count": 35,
   "metadata": {},
   "outputs": [
    {
     "data": {
      "text/html": [
       "<div>\n",
       "<style scoped>\n",
       "    .dataframe tbody tr th:only-of-type {\n",
       "        vertical-align: middle;\n",
       "    }\n",
       "\n",
       "    .dataframe tbody tr th {\n",
       "        vertical-align: top;\n",
       "    }\n",
       "\n",
       "    .dataframe thead th {\n",
       "        text-align: right;\n",
       "    }\n",
       "</style>\n",
       "<table border=\"1\" class=\"dataframe\">\n",
       "  <thead>\n",
       "    <tr style=\"text-align: right;\">\n",
       "      <th></th>\n",
       "      <th>Cliente</th>\n",
       "      <th>Año</th>\n",
       "      <th>Mes</th>\n",
       "      <th>Volumen</th>\n",
       "      <th>nr</th>\n",
       "      <th>NR/Vol</th>\n",
       "    </tr>\n",
       "  </thead>\n",
       "  <tbody>\n",
       "    <tr>\n",
       "      <th>0</th>\n",
       "      <td>10</td>\n",
       "      <td>2020</td>\n",
       "      <td>10</td>\n",
       "      <td>0</td>\n",
       "      <td>0</td>\n",
       "      <td>0</td>\n",
       "    </tr>\n",
       "    <tr>\n",
       "      <th>1</th>\n",
       "      <td>12</td>\n",
       "      <td>2020</td>\n",
       "      <td>10</td>\n",
       "      <td>0</td>\n",
       "      <td>0</td>\n",
       "      <td>0</td>\n",
       "    </tr>\n",
       "    <tr>\n",
       "      <th>2</th>\n",
       "      <td>14</td>\n",
       "      <td>2020</td>\n",
       "      <td>10</td>\n",
       "      <td>0</td>\n",
       "      <td>0</td>\n",
       "      <td>0</td>\n",
       "    </tr>\n",
       "    <tr>\n",
       "      <th>3</th>\n",
       "      <td>15</td>\n",
       "      <td>2020</td>\n",
       "      <td>10</td>\n",
       "      <td>0</td>\n",
       "      <td>0</td>\n",
       "      <td>0</td>\n",
       "    </tr>\n",
       "    <tr>\n",
       "      <th>4</th>\n",
       "      <td>18</td>\n",
       "      <td>2020</td>\n",
       "      <td>10</td>\n",
       "      <td>0</td>\n",
       "      <td>0</td>\n",
       "      <td>0</td>\n",
       "    </tr>\n",
       "  </tbody>\n",
       "</table>\n",
       "</div>"
      ],
      "text/plain": [
       "   Cliente   Año  Mes  Volumen  nr  NR/Vol\n",
       "0       10  2020   10        0   0       0\n",
       "1       12  2020   10        0   0       0\n",
       "2       14  2020   10        0   0       0\n",
       "3       15  2020   10        0   0       0\n",
       "4       18  2020   10        0   0       0"
      ]
     },
     "execution_count": 35,
     "metadata": {},
     "output_type": "execute_result"
    }
   ],
   "source": [
    "test=test.drop(['Marca1','Marca2','Marca3','Marca_Inno1','Marca_Inno2'],axis=1)\n",
    "test['Año']=2020\n",
    "test['Mes']=10\n",
    "test['Volumen']=0\n",
    "test['nr']=0\n",
    "test['NR/Vol']=0\n",
    "test.head()"
   ]
  },
  {
   "cell_type": "code",
   "execution_count": 36,
   "metadata": {},
   "outputs": [],
   "source": [
    "test1=test.copy()\n",
    "test2=test.copy()\n",
    "test3=test.copy()\n",
    "test4=test.copy()\n",
    "test5=test.copy()"
   ]
  },
  {
   "cell_type": "code",
   "execution_count": 37,
   "metadata": {},
   "outputs": [],
   "source": [
    "test1['product_id']=42\n",
    "test2['product_id']=26\n",
    "test3['product_id']=102\n",
    "test4['product_id']=69\n",
    "test5['product_id']=70"
   ]
  },
  {
   "cell_type": "code",
   "execution_count": 38,
   "metadata": {},
   "outputs": [
    {
     "data": {
      "text/plain": [
       "(46510, 7)"
      ]
     },
     "execution_count": 38,
     "metadata": {},
     "output_type": "execute_result"
    }
   ],
   "source": [
    "test=test1.append([test2,test3,test4,test5])\n",
    "test.shape"
   ]
  },
  {
   "cell_type": "code",
   "execution_count": 39,
   "metadata": {},
   "outputs": [
    {
     "data": {
      "text/html": [
       "<div>\n",
       "<style scoped>\n",
       "    .dataframe tbody tr th:only-of-type {\n",
       "        vertical-align: middle;\n",
       "    }\n",
       "\n",
       "    .dataframe tbody tr th {\n",
       "        vertical-align: top;\n",
       "    }\n",
       "\n",
       "    .dataframe thead th {\n",
       "        text-align: right;\n",
       "    }\n",
       "</style>\n",
       "<table border=\"1\" class=\"dataframe\">\n",
       "  <thead>\n",
       "    <tr style=\"text-align: right;\">\n",
       "      <th></th>\n",
       "      <th>Cliente</th>\n",
       "      <th>Año</th>\n",
       "      <th>Mes</th>\n",
       "      <th>Volumen</th>\n",
       "      <th>nr</th>\n",
       "      <th>NR/Vol</th>\n",
       "      <th>product_id</th>\n",
       "      <th>Marca2</th>\n",
       "      <th>Cupo2</th>\n",
       "      <th>CapacidadEnvase2</th>\n",
       "      <th>SegmentoPrecio2</th>\n",
       "      <th>Llave</th>\n",
       "    </tr>\n",
       "  </thead>\n",
       "  <tbody>\n",
       "    <tr>\n",
       "      <th>0</th>\n",
       "      <td>10</td>\n",
       "      <td>2020</td>\n",
       "      <td>10</td>\n",
       "      <td>0</td>\n",
       "      <td>0</td>\n",
       "      <td>0</td>\n",
       "      <td>42</td>\n",
       "      <td>Marca_20</td>\n",
       "      <td>Cupo_3</td>\n",
       "      <td>CapacidadEnvase_9</td>\n",
       "      <td>SegmentoPrecio_1</td>\n",
       "      <td>Marca_20Cupo_3CapacidadEnvase_9</td>\n",
       "    </tr>\n",
       "    <tr>\n",
       "      <th>1</th>\n",
       "      <td>12</td>\n",
       "      <td>2020</td>\n",
       "      <td>10</td>\n",
       "      <td>0</td>\n",
       "      <td>0</td>\n",
       "      <td>0</td>\n",
       "      <td>42</td>\n",
       "      <td>Marca_20</td>\n",
       "      <td>Cupo_3</td>\n",
       "      <td>CapacidadEnvase_9</td>\n",
       "      <td>SegmentoPrecio_1</td>\n",
       "      <td>Marca_20Cupo_3CapacidadEnvase_9</td>\n",
       "    </tr>\n",
       "    <tr>\n",
       "      <th>2</th>\n",
       "      <td>14</td>\n",
       "      <td>2020</td>\n",
       "      <td>10</td>\n",
       "      <td>0</td>\n",
       "      <td>0</td>\n",
       "      <td>0</td>\n",
       "      <td>42</td>\n",
       "      <td>Marca_20</td>\n",
       "      <td>Cupo_3</td>\n",
       "      <td>CapacidadEnvase_9</td>\n",
       "      <td>SegmentoPrecio_1</td>\n",
       "      <td>Marca_20Cupo_3CapacidadEnvase_9</td>\n",
       "    </tr>\n",
       "    <tr>\n",
       "      <th>3</th>\n",
       "      <td>15</td>\n",
       "      <td>2020</td>\n",
       "      <td>10</td>\n",
       "      <td>0</td>\n",
       "      <td>0</td>\n",
       "      <td>0</td>\n",
       "      <td>42</td>\n",
       "      <td>Marca_20</td>\n",
       "      <td>Cupo_3</td>\n",
       "      <td>CapacidadEnvase_9</td>\n",
       "      <td>SegmentoPrecio_1</td>\n",
       "      <td>Marca_20Cupo_3CapacidadEnvase_9</td>\n",
       "    </tr>\n",
       "    <tr>\n",
       "      <th>4</th>\n",
       "      <td>18</td>\n",
       "      <td>2020</td>\n",
       "      <td>10</td>\n",
       "      <td>0</td>\n",
       "      <td>0</td>\n",
       "      <td>0</td>\n",
       "      <td>42</td>\n",
       "      <td>Marca_20</td>\n",
       "      <td>Cupo_3</td>\n",
       "      <td>CapacidadEnvase_9</td>\n",
       "      <td>SegmentoPrecio_1</td>\n",
       "      <td>Marca_20Cupo_3CapacidadEnvase_9</td>\n",
       "    </tr>\n",
       "  </tbody>\n",
       "</table>\n",
       "</div>"
      ],
      "text/plain": [
       "   Cliente   Año  Mes  Volumen  nr  NR/Vol  product_id    Marca2   Cupo2  \\\n",
       "0       10  2020   10        0   0       0          42  Marca_20  Cupo_3   \n",
       "1       12  2020   10        0   0       0          42  Marca_20  Cupo_3   \n",
       "2       14  2020   10        0   0       0          42  Marca_20  Cupo_3   \n",
       "3       15  2020   10        0   0       0          42  Marca_20  Cupo_3   \n",
       "4       18  2020   10        0   0       0          42  Marca_20  Cupo_3   \n",
       "\n",
       "    CapacidadEnvase2   SegmentoPrecio2                            Llave  \n",
       "0  CapacidadEnvase_9  SegmentoPrecio_1  Marca_20Cupo_3CapacidadEnvase_9  \n",
       "1  CapacidadEnvase_9  SegmentoPrecio_1  Marca_20Cupo_3CapacidadEnvase_9  \n",
       "2  CapacidadEnvase_9  SegmentoPrecio_1  Marca_20Cupo_3CapacidadEnvase_9  \n",
       "3  CapacidadEnvase_9  SegmentoPrecio_1  Marca_20Cupo_3CapacidadEnvase_9  \n",
       "4  CapacidadEnvase_9  SegmentoPrecio_1  Marca_20Cupo_3CapacidadEnvase_9  "
      ]
     },
     "execution_count": 39,
     "metadata": {},
     "output_type": "execute_result"
    }
   ],
   "source": [
    "test=test.merge(products,how='left',on='product_id')\n",
    "test.head()"
   ]
  },
  {
   "cell_type": "code",
   "execution_count": 40,
   "metadata": {},
   "outputs": [],
   "source": [
    "test=test.drop('Llave',axis=1)"
   ]
  },
  {
   "cell_type": "code",
   "execution_count": 41,
   "metadata": {},
   "outputs": [
    {
     "data": {
      "text/plain": [
       "Index(['Año', 'Mes', 'Cliente', 'SegmentoPrecio2', 'Marca2', 'Cupo2',\n",
       "       'CapacidadEnvase2', 'Volumen', 'disc', 'nr', 'NR/Vol'],\n",
       "      dtype='object')"
      ]
     },
     "execution_count": 41,
     "metadata": {},
     "output_type": "execute_result"
    }
   ],
   "source": [
    "sales.columns"
   ]
  },
  {
   "cell_type": "code",
   "execution_count": 46,
   "metadata": {},
   "outputs": [
    {
     "data": {
      "text/html": [
       "<div>\n",
       "<style scoped>\n",
       "    .dataframe tbody tr th:only-of-type {\n",
       "        vertical-align: middle;\n",
       "    }\n",
       "\n",
       "    .dataframe tbody tr th {\n",
       "        vertical-align: top;\n",
       "    }\n",
       "\n",
       "    .dataframe thead th {\n",
       "        text-align: right;\n",
       "    }\n",
       "</style>\n",
       "<table border=\"1\" class=\"dataframe\">\n",
       "  <thead>\n",
       "    <tr style=\"text-align: right;\">\n",
       "      <th></th>\n",
       "      <th>Año</th>\n",
       "      <th>Mes</th>\n",
       "      <th>Cliente</th>\n",
       "      <th>SegmentoPrecio2</th>\n",
       "      <th>Marca2</th>\n",
       "      <th>Cupo2</th>\n",
       "      <th>CapacidadEnvase2</th>\n",
       "      <th>Volumen</th>\n",
       "      <th>disc</th>\n",
       "      <th>nr</th>\n",
       "      <th>NR/Vol</th>\n",
       "      <th>Llave</th>\n",
       "      <th>product_id</th>\n",
       "    </tr>\n",
       "  </thead>\n",
       "  <tbody>\n",
       "    <tr>\n",
       "      <th>0</th>\n",
       "      <td>2019</td>\n",
       "      <td>5</td>\n",
       "      <td>10</td>\n",
       "      <td>SegmentoPrecio_1</td>\n",
       "      <td>Marca_1</td>\n",
       "      <td>Cupo_1</td>\n",
       "      <td>CapacidadEnvase_12</td>\n",
       "      <td>0.112229</td>\n",
       "      <td>-30.590603</td>\n",
       "      <td>900.328567</td>\n",
       "      <td>8022.276248</td>\n",
       "      <td>Marca_1Cupo_1CapacidadEnvase_12</td>\n",
       "      <td>0</td>\n",
       "    </tr>\n",
       "    <tr>\n",
       "      <th>1</th>\n",
       "      <td>2019</td>\n",
       "      <td>5</td>\n",
       "      <td>10</td>\n",
       "      <td>SegmentoPrecio_1</td>\n",
       "      <td>Marca_2</td>\n",
       "      <td>Cupo_2</td>\n",
       "      <td>CapacidadEnvase_10</td>\n",
       "      <td>0.021734</td>\n",
       "      <td>0.000000</td>\n",
       "      <td>149.184463</td>\n",
       "      <td>6863.977158</td>\n",
       "      <td>Marca_2Cupo_2CapacidadEnvase_10</td>\n",
       "      <td>39</td>\n",
       "    </tr>\n",
       "    <tr>\n",
       "      <th>2</th>\n",
       "      <td>2019</td>\n",
       "      <td>5</td>\n",
       "      <td>10</td>\n",
       "      <td>SegmentoPrecio_2</td>\n",
       "      <td>Marca_3</td>\n",
       "      <td>Cupo_2</td>\n",
       "      <td>CapacidadEnvase_10</td>\n",
       "      <td>0.043469</td>\n",
       "      <td>0.000000</td>\n",
       "      <td>359.625828</td>\n",
       "      <td>8273.192177</td>\n",
       "      <td>Marca_3Cupo_2CapacidadEnvase_10</td>\n",
       "      <td>59</td>\n",
       "    </tr>\n",
       "    <tr>\n",
       "      <th>3</th>\n",
       "      <td>2019</td>\n",
       "      <td>5</td>\n",
       "      <td>10</td>\n",
       "      <td>SegmentoPrecio_1</td>\n",
       "      <td>Marca_1</td>\n",
       "      <td>Cupo_2</td>\n",
       "      <td>CapacidadEnvase_16</td>\n",
       "      <td>0.026345</td>\n",
       "      <td>-31.065261</td>\n",
       "      <td>134.748399</td>\n",
       "      <td>5114.813411</td>\n",
       "      <td>Marca_1Cupo_2CapacidadEnvase_16</td>\n",
       "      <td>4</td>\n",
       "    </tr>\n",
       "    <tr>\n",
       "      <th>4</th>\n",
       "      <td>2019</td>\n",
       "      <td>5</td>\n",
       "      <td>10</td>\n",
       "      <td>SegmentoPrecio_1</td>\n",
       "      <td>Marca_4</td>\n",
       "      <td>Cupo_2</td>\n",
       "      <td>CapacidadEnvase_10</td>\n",
       "      <td>0.086938</td>\n",
       "      <td>0.000000</td>\n",
       "      <td>496.901005</td>\n",
       "      <td>5715.603808</td>\n",
       "      <td>Marca_4Cupo_2CapacidadEnvase_10</td>\n",
       "      <td>74</td>\n",
       "    </tr>\n",
       "  </tbody>\n",
       "</table>\n",
       "</div>"
      ],
      "text/plain": [
       "    Año  Mes  Cliente   SegmentoPrecio2   Marca2   Cupo2    CapacidadEnvase2  \\\n",
       "0  2019    5       10  SegmentoPrecio_1  Marca_1  Cupo_1  CapacidadEnvase_12   \n",
       "1  2019    5       10  SegmentoPrecio_1  Marca_2  Cupo_2  CapacidadEnvase_10   \n",
       "2  2019    5       10  SegmentoPrecio_2  Marca_3  Cupo_2  CapacidadEnvase_10   \n",
       "3  2019    5       10  SegmentoPrecio_1  Marca_1  Cupo_2  CapacidadEnvase_16   \n",
       "4  2019    5       10  SegmentoPrecio_1  Marca_4  Cupo_2  CapacidadEnvase_10   \n",
       "\n",
       "    Volumen       disc          nr       NR/Vol  \\\n",
       "0  0.112229 -30.590603  900.328567  8022.276248   \n",
       "1  0.021734   0.000000  149.184463  6863.977158   \n",
       "2  0.043469   0.000000  359.625828  8273.192177   \n",
       "3  0.026345 -31.065261  134.748399  5114.813411   \n",
       "4  0.086938   0.000000  496.901005  5715.603808   \n",
       "\n",
       "                             Llave  product_id  \n",
       "0  Marca_1Cupo_1CapacidadEnvase_12           0  \n",
       "1  Marca_2Cupo_2CapacidadEnvase_10          39  \n",
       "2  Marca_3Cupo_2CapacidadEnvase_10          59  \n",
       "3  Marca_1Cupo_2CapacidadEnvase_16           4  \n",
       "4  Marca_4Cupo_2CapacidadEnvase_10          74  "
      ]
     },
     "execution_count": 46,
     "metadata": {},
     "output_type": "execute_result"
    }
   ],
   "source": [
    "sales['Llave']=sales.Marca2+sales.Cupo2+sales.CapacidadEnvase2\n",
    "sales=sales.merge(products[['Llave','product_id']],how='left',on='Llave')\n",
    "sales.head()"
   ]
  },
  {
   "cell_type": "code",
   "execution_count": 47,
   "metadata": {},
   "outputs": [],
   "source": [
    "sales=sales.drop('Llave',axis=1)"
   ]
  },
  {
   "cell_type": "code",
   "execution_count": 48,
   "metadata": {},
   "outputs": [],
   "source": [
    "df=sales.append(test,sort=False)"
   ]
  },
  {
   "cell_type": "code",
   "execution_count": 49,
   "metadata": {},
   "outputs": [
    {
     "data": {
      "text/plain": [
       "(1452618, 12)"
      ]
     },
     "execution_count": 49,
     "metadata": {},
     "output_type": "execute_result"
    }
   ],
   "source": [
    "df.shape"
   ]
  },
  {
   "cell_type": "code",
   "execution_count": 50,
   "metadata": {},
   "outputs": [
    {
     "data": {
      "text/plain": [
       "Index(['Año', 'Mes', 'Cliente', 'SegmentoPrecio2', 'Marca2', 'Cupo2',\n",
       "       'CapacidadEnvase2', 'Volumen', 'disc', 'nr', 'NR/Vol', 'product_id'],\n",
       "      dtype='object')"
      ]
     },
     "execution_count": 50,
     "metadata": {},
     "output_type": "execute_result"
    }
   ],
   "source": [
    "df.columns"
   ]
  },
  {
   "cell_type": "code",
   "execution_count": 51,
   "metadata": {},
   "outputs": [
    {
     "name": "stdout",
     "output_type": "stream",
     "text": [
      "<class 'pandas.core.frame.DataFrame'>\n",
      "Int64Index: 1452618 entries, 0 to 46509\n",
      "Data columns (total 12 columns):\n",
      "Año                 1452618 non-null int64\n",
      "Mes                 1452618 non-null int64\n",
      "Cliente             1452618 non-null int64\n",
      "SegmentoPrecio2     1452618 non-null object\n",
      "Marca2              1452618 non-null object\n",
      "Cupo2               1452618 non-null object\n",
      "CapacidadEnvase2    1452618 non-null object\n",
      "Volumen             1452618 non-null float64\n",
      "disc                1406108 non-null float64\n",
      "nr                  1452618 non-null float64\n",
      "NR/Vol              1452618 non-null float64\n",
      "product_id          1452618 non-null int64\n",
      "dtypes: float64(4), int64(4), object(4)\n",
      "memory usage: 144.1+ MB\n"
     ]
    }
   ],
   "source": [
    "df.info()"
   ]
  },
  {
   "cell_type": "code",
   "execution_count": 52,
   "metadata": {},
   "outputs": [
    {
     "data": {
      "text/html": [
       "<div>\n",
       "<style scoped>\n",
       "    .dataframe tbody tr th:only-of-type {\n",
       "        vertical-align: middle;\n",
       "    }\n",
       "\n",
       "    .dataframe tbody tr th {\n",
       "        vertical-align: top;\n",
       "    }\n",
       "\n",
       "    .dataframe thead th {\n",
       "        text-align: right;\n",
       "    }\n",
       "</style>\n",
       "<table border=\"1\" class=\"dataframe\">\n",
       "  <thead>\n",
       "    <tr style=\"text-align: right;\">\n",
       "      <th></th>\n",
       "      <th>Año</th>\n",
       "      <th>Mes</th>\n",
       "      <th>Cliente</th>\n",
       "      <th>SegmentoPrecio2</th>\n",
       "      <th>Marca2</th>\n",
       "      <th>Cupo2</th>\n",
       "      <th>CapacidadEnvase2</th>\n",
       "      <th>Volumen</th>\n",
       "      <th>disc</th>\n",
       "      <th>nr</th>\n",
       "      <th>NR/Vol</th>\n",
       "      <th>product_id</th>\n",
       "      <th>Regional2</th>\n",
       "      <th>Gerencia2</th>\n",
       "      <th>SubCanal2</th>\n",
       "      <th>Categoria</th>\n",
       "      <th>Nevera</th>\n",
       "    </tr>\n",
       "  </thead>\n",
       "  <tbody>\n",
       "    <tr>\n",
       "      <th>0</th>\n",
       "      <td>2019</td>\n",
       "      <td>5</td>\n",
       "      <td>10</td>\n",
       "      <td>SegmentoPrecio_1</td>\n",
       "      <td>Marca_1</td>\n",
       "      <td>Cupo_1</td>\n",
       "      <td>CapacidadEnvase_12</td>\n",
       "      <td>0.112229</td>\n",
       "      <td>-30.590603</td>\n",
       "      <td>900.328567</td>\n",
       "      <td>8022.276248</td>\n",
       "      <td>0</td>\n",
       "      <td>Regional 1</td>\n",
       "      <td>Gerencia_3</td>\n",
       "      <td>Subcanal_1</td>\n",
       "      <td>Categoria_2</td>\n",
       "      <td>1</td>\n",
       "    </tr>\n",
       "    <tr>\n",
       "      <th>1</th>\n",
       "      <td>2019</td>\n",
       "      <td>5</td>\n",
       "      <td>10</td>\n",
       "      <td>SegmentoPrecio_1</td>\n",
       "      <td>Marca_2</td>\n",
       "      <td>Cupo_2</td>\n",
       "      <td>CapacidadEnvase_10</td>\n",
       "      <td>0.021734</td>\n",
       "      <td>0.000000</td>\n",
       "      <td>149.184463</td>\n",
       "      <td>6863.977158</td>\n",
       "      <td>39</td>\n",
       "      <td>Regional 1</td>\n",
       "      <td>Gerencia_3</td>\n",
       "      <td>Subcanal_1</td>\n",
       "      <td>Categoria_2</td>\n",
       "      <td>1</td>\n",
       "    </tr>\n",
       "    <tr>\n",
       "      <th>2</th>\n",
       "      <td>2019</td>\n",
       "      <td>5</td>\n",
       "      <td>10</td>\n",
       "      <td>SegmentoPrecio_2</td>\n",
       "      <td>Marca_3</td>\n",
       "      <td>Cupo_2</td>\n",
       "      <td>CapacidadEnvase_10</td>\n",
       "      <td>0.043469</td>\n",
       "      <td>0.000000</td>\n",
       "      <td>359.625828</td>\n",
       "      <td>8273.192177</td>\n",
       "      <td>59</td>\n",
       "      <td>Regional 1</td>\n",
       "      <td>Gerencia_3</td>\n",
       "      <td>Subcanal_1</td>\n",
       "      <td>Categoria_2</td>\n",
       "      <td>1</td>\n",
       "    </tr>\n",
       "    <tr>\n",
       "      <th>3</th>\n",
       "      <td>2019</td>\n",
       "      <td>5</td>\n",
       "      <td>10</td>\n",
       "      <td>SegmentoPrecio_1</td>\n",
       "      <td>Marca_1</td>\n",
       "      <td>Cupo_2</td>\n",
       "      <td>CapacidadEnvase_16</td>\n",
       "      <td>0.026345</td>\n",
       "      <td>-31.065261</td>\n",
       "      <td>134.748399</td>\n",
       "      <td>5114.813411</td>\n",
       "      <td>4</td>\n",
       "      <td>Regional 1</td>\n",
       "      <td>Gerencia_3</td>\n",
       "      <td>Subcanal_1</td>\n",
       "      <td>Categoria_2</td>\n",
       "      <td>1</td>\n",
       "    </tr>\n",
       "    <tr>\n",
       "      <th>4</th>\n",
       "      <td>2019</td>\n",
       "      <td>5</td>\n",
       "      <td>10</td>\n",
       "      <td>SegmentoPrecio_1</td>\n",
       "      <td>Marca_4</td>\n",
       "      <td>Cupo_2</td>\n",
       "      <td>CapacidadEnvase_10</td>\n",
       "      <td>0.086938</td>\n",
       "      <td>0.000000</td>\n",
       "      <td>496.901005</td>\n",
       "      <td>5715.603808</td>\n",
       "      <td>74</td>\n",
       "      <td>Regional 1</td>\n",
       "      <td>Gerencia_3</td>\n",
       "      <td>Subcanal_1</td>\n",
       "      <td>Categoria_2</td>\n",
       "      <td>1</td>\n",
       "    </tr>\n",
       "  </tbody>\n",
       "</table>\n",
       "</div>"
      ],
      "text/plain": [
       "    Año  Mes  Cliente   SegmentoPrecio2   Marca2   Cupo2    CapacidadEnvase2  \\\n",
       "0  2019    5       10  SegmentoPrecio_1  Marca_1  Cupo_1  CapacidadEnvase_12   \n",
       "1  2019    5       10  SegmentoPrecio_1  Marca_2  Cupo_2  CapacidadEnvase_10   \n",
       "2  2019    5       10  SegmentoPrecio_2  Marca_3  Cupo_2  CapacidadEnvase_10   \n",
       "3  2019    5       10  SegmentoPrecio_1  Marca_1  Cupo_2  CapacidadEnvase_16   \n",
       "4  2019    5       10  SegmentoPrecio_1  Marca_4  Cupo_2  CapacidadEnvase_10   \n",
       "\n",
       "    Volumen       disc          nr       NR/Vol  product_id   Regional2  \\\n",
       "0  0.112229 -30.590603  900.328567  8022.276248           0  Regional 1   \n",
       "1  0.021734   0.000000  149.184463  6863.977158          39  Regional 1   \n",
       "2  0.043469   0.000000  359.625828  8273.192177          59  Regional 1   \n",
       "3  0.026345 -31.065261  134.748399  5114.813411           4  Regional 1   \n",
       "4  0.086938   0.000000  496.901005  5715.603808          74  Regional 1   \n",
       "\n",
       "    Gerencia2   SubCanal2    Categoria  Nevera  \n",
       "0  Gerencia_3  Subcanal_1  Categoria_2       1  \n",
       "1  Gerencia_3  Subcanal_1  Categoria_2       1  \n",
       "2  Gerencia_3  Subcanal_1  Categoria_2       1  \n",
       "3  Gerencia_3  Subcanal_1  Categoria_2       1  \n",
       "4  Gerencia_3  Subcanal_1  Categoria_2       1  "
      ]
     },
     "execution_count": 52,
     "metadata": {},
     "output_type": "execute_result"
    }
   ],
   "source": [
    "df=df.merge(customers,how='left',on='Cliente')\n",
    "df.head()"
   ]
  },
  {
   "cell_type": "code",
   "execution_count": 53,
   "metadata": {},
   "outputs": [
    {
     "data": {
      "text/html": [
       "<div>\n",
       "<style scoped>\n",
       "    .dataframe tbody tr th:only-of-type {\n",
       "        vertical-align: middle;\n",
       "    }\n",
       "\n",
       "    .dataframe tbody tr th {\n",
       "        vertical-align: top;\n",
       "    }\n",
       "\n",
       "    .dataframe thead th {\n",
       "        text-align: right;\n",
       "    }\n",
       "</style>\n",
       "<table border=\"1\" class=\"dataframe\">\n",
       "  <thead>\n",
       "    <tr style=\"text-align: right;\">\n",
       "      <th></th>\n",
       "      <th>Año</th>\n",
       "      <th>Mes</th>\n",
       "      <th>Cliente</th>\n",
       "      <th>SegmentoPrecio2</th>\n",
       "      <th>Marca2</th>\n",
       "      <th>Cupo2</th>\n",
       "      <th>CapacidadEnvase2</th>\n",
       "      <th>Volumen</th>\n",
       "      <th>disc</th>\n",
       "      <th>nr</th>\n",
       "      <th>NR/Vol</th>\n",
       "      <th>product_id</th>\n",
       "      <th>Regional2</th>\n",
       "      <th>Gerencia2</th>\n",
       "      <th>SubCanal2</th>\n",
       "      <th>Categoria</th>\n",
       "      <th>Nevera</th>\n",
       "      <th>Llave</th>\n",
       "      <th>index</th>\n",
       "    </tr>\n",
       "  </thead>\n",
       "  <tbody>\n",
       "    <tr>\n",
       "      <th>0</th>\n",
       "      <td>2019</td>\n",
       "      <td>5</td>\n",
       "      <td>10</td>\n",
       "      <td>SegmentoPrecio_1</td>\n",
       "      <td>Marca_1</td>\n",
       "      <td>Cupo_1</td>\n",
       "      <td>CapacidadEnvase_12</td>\n",
       "      <td>0.112229</td>\n",
       "      <td>-30.590603</td>\n",
       "      <td>900.328567</td>\n",
       "      <td>8022.276248</td>\n",
       "      <td>0</td>\n",
       "      <td>Regional 1</td>\n",
       "      <td>Gerencia_3</td>\n",
       "      <td>Subcanal_1</td>\n",
       "      <td>Categoria_2</td>\n",
       "      <td>1</td>\n",
       "      <td>2019-5</td>\n",
       "      <td>0.0</td>\n",
       "    </tr>\n",
       "    <tr>\n",
       "      <th>1</th>\n",
       "      <td>2019</td>\n",
       "      <td>5</td>\n",
       "      <td>10</td>\n",
       "      <td>SegmentoPrecio_1</td>\n",
       "      <td>Marca_2</td>\n",
       "      <td>Cupo_2</td>\n",
       "      <td>CapacidadEnvase_10</td>\n",
       "      <td>0.021734</td>\n",
       "      <td>0.000000</td>\n",
       "      <td>149.184463</td>\n",
       "      <td>6863.977158</td>\n",
       "      <td>39</td>\n",
       "      <td>Regional 1</td>\n",
       "      <td>Gerencia_3</td>\n",
       "      <td>Subcanal_1</td>\n",
       "      <td>Categoria_2</td>\n",
       "      <td>1</td>\n",
       "      <td>2019-5</td>\n",
       "      <td>0.0</td>\n",
       "    </tr>\n",
       "    <tr>\n",
       "      <th>2</th>\n",
       "      <td>2019</td>\n",
       "      <td>5</td>\n",
       "      <td>10</td>\n",
       "      <td>SegmentoPrecio_2</td>\n",
       "      <td>Marca_3</td>\n",
       "      <td>Cupo_2</td>\n",
       "      <td>CapacidadEnvase_10</td>\n",
       "      <td>0.043469</td>\n",
       "      <td>0.000000</td>\n",
       "      <td>359.625828</td>\n",
       "      <td>8273.192177</td>\n",
       "      <td>59</td>\n",
       "      <td>Regional 1</td>\n",
       "      <td>Gerencia_3</td>\n",
       "      <td>Subcanal_1</td>\n",
       "      <td>Categoria_2</td>\n",
       "      <td>1</td>\n",
       "      <td>2019-5</td>\n",
       "      <td>0.0</td>\n",
       "    </tr>\n",
       "    <tr>\n",
       "      <th>3</th>\n",
       "      <td>2019</td>\n",
       "      <td>5</td>\n",
       "      <td>10</td>\n",
       "      <td>SegmentoPrecio_1</td>\n",
       "      <td>Marca_1</td>\n",
       "      <td>Cupo_2</td>\n",
       "      <td>CapacidadEnvase_16</td>\n",
       "      <td>0.026345</td>\n",
       "      <td>-31.065261</td>\n",
       "      <td>134.748399</td>\n",
       "      <td>5114.813411</td>\n",
       "      <td>4</td>\n",
       "      <td>Regional 1</td>\n",
       "      <td>Gerencia_3</td>\n",
       "      <td>Subcanal_1</td>\n",
       "      <td>Categoria_2</td>\n",
       "      <td>1</td>\n",
       "      <td>2019-5</td>\n",
       "      <td>0.0</td>\n",
       "    </tr>\n",
       "    <tr>\n",
       "      <th>4</th>\n",
       "      <td>2019</td>\n",
       "      <td>5</td>\n",
       "      <td>10</td>\n",
       "      <td>SegmentoPrecio_1</td>\n",
       "      <td>Marca_4</td>\n",
       "      <td>Cupo_2</td>\n",
       "      <td>CapacidadEnvase_10</td>\n",
       "      <td>0.086938</td>\n",
       "      <td>0.000000</td>\n",
       "      <td>496.901005</td>\n",
       "      <td>5715.603808</td>\n",
       "      <td>74</td>\n",
       "      <td>Regional 1</td>\n",
       "      <td>Gerencia_3</td>\n",
       "      <td>Subcanal_1</td>\n",
       "      <td>Categoria_2</td>\n",
       "      <td>1</td>\n",
       "      <td>2019-5</td>\n",
       "      <td>0.0</td>\n",
       "    </tr>\n",
       "  </tbody>\n",
       "</table>\n",
       "</div>"
      ],
      "text/plain": [
       "    Año  Mes  Cliente   SegmentoPrecio2   Marca2   Cupo2    CapacidadEnvase2  \\\n",
       "0  2019    5       10  SegmentoPrecio_1  Marca_1  Cupo_1  CapacidadEnvase_12   \n",
       "1  2019    5       10  SegmentoPrecio_1  Marca_2  Cupo_2  CapacidadEnvase_10   \n",
       "2  2019    5       10  SegmentoPrecio_2  Marca_3  Cupo_2  CapacidadEnvase_10   \n",
       "3  2019    5       10  SegmentoPrecio_1  Marca_1  Cupo_2  CapacidadEnvase_16   \n",
       "4  2019    5       10  SegmentoPrecio_1  Marca_4  Cupo_2  CapacidadEnvase_10   \n",
       "\n",
       "    Volumen       disc          nr       NR/Vol  product_id   Regional2  \\\n",
       "0  0.112229 -30.590603  900.328567  8022.276248           0  Regional 1   \n",
       "1  0.021734   0.000000  149.184463  6863.977158          39  Regional 1   \n",
       "2  0.043469   0.000000  359.625828  8273.192177          59  Regional 1   \n",
       "3  0.026345 -31.065261  134.748399  5114.813411           4  Regional 1   \n",
       "4  0.086938   0.000000  496.901005  5715.603808          74  Regional 1   \n",
       "\n",
       "    Gerencia2   SubCanal2    Categoria  Nevera   Llave  index  \n",
       "0  Gerencia_3  Subcanal_1  Categoria_2       1  2019-5    0.0  \n",
       "1  Gerencia_3  Subcanal_1  Categoria_2       1  2019-5    0.0  \n",
       "2  Gerencia_3  Subcanal_1  Categoria_2       1  2019-5    0.0  \n",
       "3  Gerencia_3  Subcanal_1  Categoria_2       1  2019-5    0.0  \n",
       "4  Gerencia_3  Subcanal_1  Categoria_2       1  2019-5    0.0  "
      ]
     },
     "execution_count": 53,
     "metadata": {},
     "output_type": "execute_result"
    }
   ],
   "source": [
    "month_sales['Llave']=month_sales['Año'].astype(str)+'-'+month_sales['Mes'].astype(str)\n",
    "df['Llave']=df['Año'].astype(str)+'-'+df['Mes'].astype(str)\n",
    "df=df.merge(month_sales[['Llave','index']],how='left',on='Llave')\n",
    "df.head()"
   ]
  },
  {
   "cell_type": "code",
   "execution_count": 54,
   "metadata": {},
   "outputs": [
    {
     "data": {
      "text/plain": [
       "Index(['Año', 'Mes', 'Cliente', 'SegmentoPrecio2', 'Marca2', 'Cupo2',\n",
       "       'CapacidadEnvase2', 'Volumen', 'disc', 'nr', 'NR/Vol', 'product_id',\n",
       "       'Regional2', 'Gerencia2', 'SubCanal2', 'Categoria', 'Nevera', 'Llave',\n",
       "       'index'],\n",
       "      dtype='object')"
      ]
     },
     "execution_count": 54,
     "metadata": {},
     "output_type": "execute_result"
    }
   ],
   "source": [
    "df.columns"
   ]
  },
  {
   "cell_type": "code",
   "execution_count": 55,
   "metadata": {},
   "outputs": [],
   "source": [
    "df.columns=['Año', 'Mes', 'Cliente', 'SegmentoPrecio2', 'Marca2', 'Cupo2',\n",
    "       'CapacidadEnvase2', 'Volumen', 'disc', 'nr', 'NR/Vol', 'product_id',\n",
    "       'Regional2', 'Gerencia2', 'SubCanal2', 'Categoria', 'Nevera', 'Llave',\n",
    "       'period']"
   ]
  },
  {
   "cell_type": "code",
   "execution_count": 56,
   "metadata": {},
   "outputs": [],
   "source": [
    "df=df.drop('Llave',axis=1)"
   ]
  },
  {
   "cell_type": "code",
   "execution_count": null,
   "metadata": {},
   "outputs": [],
   "source": []
  }
 ],
 "metadata": {
  "kernelspec": {
   "display_name": "Python 3",
   "language": "python",
   "name": "python3"
  },
  "language_info": {
   "codemirror_mode": {
    "name": "ipython",
    "version": 3
   },
   "file_extension": ".py",
   "mimetype": "text/x-python",
   "name": "python",
   "nbconvert_exporter": "python",
   "pygments_lexer": "ipython3",
   "version": "3.7.3"
  }
 },
 "nbformat": 4,
 "nbformat_minor": 2
}
